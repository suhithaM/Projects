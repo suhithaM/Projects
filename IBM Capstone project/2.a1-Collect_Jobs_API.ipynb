{
 "cells": [
  {
   "cell_type": "raw",
   "id": "ce5274be-2494-4129-9e65-3e297c4460af",
   "metadata": {},
   "source": [
    "Dataset Used in this Assignment\n",
    "The dataset used in this notebook comes from the following source: https://www.kaggle.com/promptcloud/jobs-on-naukricom under the under a Public Domain license.\n",
    "\n",
    "The original dataset is a csv. We already converted the csv to json."
   ]
  },
  {
   "cell_type": "code",
   "execution_count": null,
   "id": "ef372bfd-8d35-4ed6-8675-558d0efa584b",
   "metadata": {},
   "outputs": [],
   "source": [
    "Collecting Jobs Data using Jobs API\n",
    "We are going to determine the number of jobs currently open for various technologies and for various locations\n",
    "\n",
    "First, we will collect the number of job postings for the following locations using the API:\n",
    "\n",
    "Los Angeles\n",
    "New York\n",
    "San Francisco\n",
    "Washington DC\n",
    "Seattle\n",
    "Austin\n",
    "Detroit"
   ]
  },
  {
   "cell_type": "code",
   "execution_count": 14,
   "id": "89b80d69-9e30-41c7-9e96-bc0057783fcc",
   "metadata": {
    "tags": []
   },
   "outputs": [
    {
     "name": "stdout",
     "output_type": "stream",
     "text": [
      "Collecting openpyxl\n",
      "  Downloading openpyxl-3.1.3-py2.py3-none-any.whl (251 kB)\n",
      "\u001b[2K     \u001b[90m━━━━━━━━━━━━━━━━━━━━━━━━━━━━━━━━━━━━━━\u001b[0m \u001b[32m251.3/251.3 kB\u001b[0m \u001b[31m20.2 MB/s\u001b[0m eta \u001b[36m0:00:00\u001b[0m\n",
      "\u001b[?25hCollecting et-xmlfile (from openpyxl)\n",
      "  Downloading et_xmlfile-1.1.0-py3-none-any.whl (4.7 kB)\n",
      "Installing collected packages: et-xmlfile, openpyxl\n",
      "Successfully installed et-xmlfile-1.1.0 openpyxl-3.1.3\n"
     ]
    }
   ],
   "source": [
    "!pip install openpyxl"
   ]
  },
  {
   "cell_type": "code",
   "execution_count": 15,
   "id": "feaea0ef-0d00-4c48-88c5-dd0eaa5db7a0",
   "metadata": {
    "tags": []
   },
   "outputs": [],
   "source": [
    "#We import required libraries\n",
    "import pandas as pd\n",
    "import json\n",
    "import requests\n",
    "import openpyxl"
   ]
  },
  {
   "cell_type": "code",
   "execution_count": 6,
   "id": "054ea882-091b-4dd8-a1eb-df2a6d23ae3a",
   "metadata": {},
   "outputs": [],
   "source": [
    "api_url=\"http://127.0.0.1:5000/data/all\"\n",
    "def get_number_of_jobs_T(technology):\n",
    "    \n",
    "    response_api = requests.get(api_url)\n",
    "\n",
    "    number_of_jobs = 0\n",
    "\n",
    "    if response_api.ok:            \n",
    "        jobs = response_api.json()\n",
    "\n",
    "    for job in jobs:\n",
    "        key = job.get('Key Skills')\n",
    "\n",
    "        if key.find(technology) > -1 :\n",
    "            number_of_jobs = number_of_jobs + 1\n",
    "\n",
    "    number_of_jobs\n",
    "    \n",
    "    return technology,number_of_jobs"
   ]
  },
  {
   "cell_type": "code",
   "execution_count": 7,
   "id": "742f43b7-452e-49b0-aefa-4b6c247e811f",
   "metadata": {
    "tags": []
   },
   "outputs": [
    {
     "data": {
      "text/plain": [
       "('Python', 1173)"
      ]
     },
     "execution_count": 7,
     "metadata": {},
     "output_type": "execute_result"
    }
   ],
   "source": [
    "get_number_of_jobs_T(\"Python\")"
   ]
  },
  {
   "cell_type": "code",
   "execution_count": 8,
   "id": "4652b2d0-de8c-42e4-8c70-a1d2c95c8b86",
   "metadata": {
    "tags": []
   },
   "outputs": [],
   "source": [
    "def get_number_of_jobs_L(location):\n",
    "    \n",
    "    response_api = requests.get(api_url)\n",
    "\n",
    "    number_of_jobs = 0\n",
    "\n",
    "    if response_api.ok:            \n",
    "        jobs = response_api.json()\n",
    "\n",
    "    for job in jobs:\n",
    "        loc = job.get('Location')\n",
    "\n",
    "        if loc.find(location) > -1 :\n",
    "            number_of_jobs = number_of_jobs + 1\n",
    "\n",
    "    number_of_jobs\n",
    "    return location,number_of_jobs"
   ]
  },
  {
   "cell_type": "code",
   "execution_count": 9,
   "id": "a3eeff77-306c-4553-b0c6-34d61bb02df3",
   "metadata": {
    "tags": []
   },
   "outputs": [
    {
     "data": {
      "text/plain": [
       "('Los Angeles', 640)"
      ]
     },
     "execution_count": 9,
     "metadata": {},
     "output_type": "execute_result"
    }
   ],
   "source": [
    "get_number_of_jobs_L(\"Los Angeles\")"
   ]
  },
  {
   "cell_type": "raw",
   "id": "fc87181b-30c7-49ae-bba4-e1e678eeeaff",
   "metadata": {},
   "source": [
    "Storing the results in an excel file:\n",
    "\n",
    "We call the API for all the given technologies above and write the results in an excel spreadsheet.\n",
    "\n",
    "We create a python list of all locations for which you need to find the number of jobs postings."
   ]
  },
  {
   "cell_type": "code",
   "execution_count": 10,
   "id": "8db56b46-0f5c-47b0-ba51-2cea401cd0a5",
   "metadata": {
    "tags": []
   },
   "outputs": [],
   "source": [
    "locations = ['Los Angeles','New York','San Francisco','Washington DC','Seattle','Austin','Detroit']"
   ]
  },
  {
   "cell_type": "code",
   "execution_count": 16,
   "id": "657da7e9-82ef-403f-80e5-dfb4d4fd8f37",
   "metadata": {
    "tags": []
   },
   "outputs": [],
   "source": [
    "# We import libraries required to create excel spreadsheet\n",
    "\n",
    "from openpyxl import Workbook\n"
   ]
  },
  {
   "cell_type": "code",
   "execution_count": 18,
   "id": "b529c968-2f3d-4928-94ee-4b43fa74f95c",
   "metadata": {
    "tags": []
   },
   "outputs": [],
   "source": [
    "# We create a workbook and select the active worksheet\n",
    "\n",
    "wb1 = Workbook()\n",
    "ws1 = wb1.active"
   ]
  },
  {
   "cell_type": "code",
   "execution_count": 19,
   "id": "c835c51c-96cd-4983-ba7e-38423e650004",
   "metadata": {
    "tags": []
   },
   "outputs": [],
   "source": [
    "# We find the number of jobs postings for each of the location in the above list and write the Location \n",
    "# name and the number of jobs postings into the excel spreadsheet.\n",
    "\n",
    "ws1.append(['Location','Number of Jobs'])\n",
    "\n",
    "for i in range(len(locations)):\n",
    "    ws1.append(get_number_of_jobs_L(locations[i]))"
   ]
  },
  {
   "cell_type": "code",
   "execution_count": 20,
   "id": "437936e5-0063-45f0-8b27-b23924d6bfcd",
   "metadata": {
    "tags": []
   },
   "outputs": [],
   "source": [
    "# We save into an excel spreadsheet named 'job-postings.xlsx'.\n",
    "\n",
    "wb1.save('2.a-job-postings (Collected from API).xlsx')\n",
    "wb1.close()"
   ]
  },
  {
   "cell_type": "raw",
   "id": "3bcf6414-6803-4954-b387-d86745a49107",
   "metadata": {},
   "source": [
    "In the similar way, we can try for technologies and results can be stored in an excel sheet."
   ]
  },
  {
   "cell_type": "code",
   "execution_count": 21,
   "id": "4b1d7d1a-f8b6-45ea-9074-f3a2d0c70610",
   "metadata": {
    "tags": []
   },
   "outputs": [],
   "source": [
    "wb2 = Workbook()\n",
    "ws2 = wb2.active\n",
    "\n",
    "languages = ['C','C#','C++','Java','JavaScript','Python','Scala','Oracle','SQL Server','MySQL Server','PostgreSQL','MongoDB']\n",
    "\n",
    "ws2.append(['Languages','Number of Jobs'])\n",
    "\n",
    "for i in range(len(languages)):\n",
    "    ws2.append(get_number_of_jobs_T(languages[i]))\n",
    "\n",
    "wb2.save('2.a-job-postings-languages (Collected from API).xlsx')\n",
    "wb2.close()"
   ]
  },
  {
   "cell_type": "code",
   "execution_count": null,
   "id": "72e6b0d0-2817-498b-ba79-045a16af2d97",
   "metadata": {},
   "outputs": [],
   "source": []
  }
 ],
 "metadata": {
  "kernelspec": {
   "display_name": "Python",
   "language": "python",
   "name": "conda-env-python-py"
  },
  "language_info": {
   "codemirror_mode": {
    "name": "ipython",
    "version": 3
   },
   "file_extension": ".py",
   "mimetype": "text/x-python",
   "name": "python",
   "nbconvert_exporter": "python",
   "pygments_lexer": "ipython3",
   "version": "3.7.12"
  }
 },
 "nbformat": 4,
 "nbformat_minor": 5
}
